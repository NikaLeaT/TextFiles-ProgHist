{
 "cells": [
  {
   "cell_type": "markdown",
   "id": "f9cd4e87",
   "metadata": {},
   "source": [
    "# Notes from prog hist lesson\n",
    "\n",
    "How to make a string:\n",
    "message1 = 'hello world'\n",
    "message2 = \"hello world\"\n",
    "message3 = \"\"\"hello\n",
    "hello\n",
    "hello world\"\"\"\n",
    "\n",
    "make sure to not mix quote types up!\n",
    "\n",
    "print -> object to textual form\n",
    "\n",
    "print and string = statement\n",
    "\n",
    "\"Code that is closer to the requirements of the machine is referred to as low-level, whereas code that is closer to natural language is high-level. \"\n",
    "\n",
    "Be aware of reserved names for files and functions such as print\n",
    "\n",
    "w parameter means you will write in this new file. \n",
    "\n",
    "r parameter from file input means you will read from this file and it'll appear in the command input.\n",
    "\n",
    "If you open a file and use write, the code will be overwritten, instead you can use append."
   ]
  }
 ],
 "metadata": {
  "language_info": {
   "name": "python"
  }
 },
 "nbformat": 4,
 "nbformat_minor": 5
}
